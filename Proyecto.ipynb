{
 "cells": [
  {
   "cell_type": "markdown",
   "metadata": {},
   "source": [
    "# <span style=\"color: #3498db  \">Análisis de inseguridad en la República Argentina</span>\n",
    "\n",
    "\n",
    "\n"
   ]
  },
  {
   "cell_type": "markdown",
   "metadata": {},
   "source": [
    "### <span style=\"color:  #a9cce3\">Este proyecto consiste en un análisis descriptivo de las denuncias de robos y homicidios en Argentina. Además, tiene como objetivo representar gráficamente la distribución de estas denuncias en el país.</span>"
   ]
  },
  {
   "cell_type": "markdown",
   "metadata": {},
   "source": [
    "#### INDICE\n",
    "- [Introducción](#introduccion)\n",
    "- [Dataset](#dataset)\n",
    "- [Limpieza y Preparación](#limpieza)\n",
    "- [Resultados](#resultados)\n"
   ]
  },
  {
   "cell_type": "markdown",
   "metadata": {},
   "source": [
    "#### <h2 id=\"introduccion\">Introducción</h2>"
   ]
  },
  {
   "cell_type": "markdown",
   "metadata": {},
   "source": [
    "<span style=\"color: #a9cce3\">No se puede negar que uno de los problemas principales en la agenda nacional es la inseguridad. Por lo tanto, se planteó la creación de un proyecto que se enfoque en un análisis exhaustivo de los datos de denuncias de robos y homicidios en las distintas provincias de Argentina.</span>\n",
    "\n",
    "<span style=\"color: #a9cce3\">\n",
    "El objetivo principal de este estudio es arrojar luz sobre la distribución geográfica y analizar los patrones de estos incidentes delictivos en el país. Para lograr estos objetivos, se emplearon técnicas de limpieza y procesamiento de datos, así como visualizaciones geoespaciales utilizando herramientas como Folium y Pandas. En el código, se utilizó el registro de eventos (logging) para mantener la trazabilidad y la reproducibilidad de los resultados.\n",
    "</span>\n"
   ]
  },
  {
   "cell_type": "markdown",
   "metadata": {},
   "source": [
    "#### <h2 id=\"dataset\">Dataset</h2>"
   ]
  },
  {
   "cell_type": "markdown",
   "metadata": {},
   "source": [
    "<span style=\"color: #a9cce3\">Los datos utilizados en este proyecto se obtuvieron de fuentes tanto gubernamentales como privadas. El dataset utilizado es propiedad del Gobierno Argentino, que garantiza el acceso al público en general. Los datos geoespaciales se encontraron en Kaggle, publicados por un usuario. La información precisa se encuentra en el Readme del proyecto.</span>"
   ]
  },
  {
   "cell_type": "markdown",
   "metadata": {},
   "source": [
    "#### <h2 id=\"limpieza\">Limpieza y Preparación</h2>"
   ]
  },
  {
   "cell_type": "markdown",
   "metadata": {},
   "source": [
    " <span style=\"color:  #a9cce3\"> Se llevó a cabo una exploración inicial de los datos para identificar valores nulos, duplicados o incoherentes. Se filtraron los registros relevantes para el análisis, centrándonos en las provincias de Argentina y en los crimenes relacionados a los robos y homicidios. El resto de datos se dejaron de lado al no ser relevantes para este proyecto. </span>"
   ]
  },
  {
   "cell_type": "markdown",
   "metadata": {},
   "source": [
    "#### <h2 id=\"resultados\">Resultados</h2>"
   ]
  },
  {
   "cell_type": "markdown",
   "metadata": {},
   "source": [
    " <span style=\"color:  #a9cce3\">Se obtuvieron dos mapas distintos, uno relacionado a la distribución de los robos y otro en relación a los homicidios.\n",
    "Se agregan capturas a continuación: </span>"
   ]
  },
  {
   "cell_type": "markdown",
   "metadata": {},
   "source": [
    "![Robos](maps/robos.png) ![Homicidios](maps/homicidios.png)"
   ]
  },
  {
   "cell_type": "markdown",
   "metadata": {},
   "source": [
    "<span style=\"color: #a9cce3\">Estos mapas se encuentran en la carpeta \"maps\" y están disponibles en formato HTML. Representan distribuciones del año 2021, ya que son los datos más recientes.</span>\n",
    "\n",
    "<span style=\"color: #a9cce3\">Algo interesante que se puede observar es que una provincia donde se cometen muchos homicidios no necesariamente registra tantos robos, lo que sugiere que son sucesos independientes.</span>\n",
    "\n",
    "<span style=\"color: #a9cce3\">Saber cómo ocurren los crímenes en el país puede ayudar al gobierno nacional a abordar la cuestión con más detalle e investigar específicamente ciertas provincias.</span>\n"
   ]
  }
 ],
 "metadata": {
  "kernelspec": {
   "display_name": "venv_maps",
   "language": "python",
   "name": "python3"
  },
  "language_info": {
   "codemirror_mode": {
    "name": "ipython",
    "version": 3
   },
   "file_extension": ".py",
   "mimetype": "text/x-python",
   "name": "python",
   "nbconvert_exporter": "python",
   "pygments_lexer": "ipython3",
   "version": "3.10.12"
  },
  "orig_nbformat": 4
 },
 "nbformat": 4,
 "nbformat_minor": 2
}
